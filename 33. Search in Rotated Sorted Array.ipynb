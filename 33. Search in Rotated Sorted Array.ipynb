{
 "cells": [
  {
   "cell_type": "code",
   "execution_count": 2,
   "metadata": {},
   "outputs": [],
   "source": [
    "class Solution:\n",
    "    def search(self, nums, target):\n",
    "        if len(nums)==0:\n",
    "            return -1        \n",
    "        l=0\n",
    "        h=len(nums)-1\n",
    "        m=l+int((h-l)/2)\n",
    "        while l <= h:  \n",
    "            mid = l + (h-l)//2\n",
    "            if nums[mid] == target:\n",
    "                return mid\n",
    "            if nums[mid] < nums[h]:\n",
    "                if nums[h] >= target > nums[mid]:\n",
    "                        l = mid+1\n",
    "                else:\n",
    "                        h = mid-1\n",
    "            else:\n",
    "                if nums[l] <= target < nums[mid]:\n",
    "                        h = mid-1\n",
    "                else:\n",
    "                        l = mid+1\n",
    "        return -1\n",
    "        "
   ]
  },
  {
   "cell_type": "code",
   "execution_count": 1,
   "metadata": {},
   "outputs": [],
   "source": [
    "nums=[4,5,6,7,0,1,2]"
   ]
  },
  {
   "cell_type": "code",
   "execution_count": null,
   "metadata": {},
   "outputs": [],
   "source": []
  }
 ],
 "metadata": {
  "kernelspec": {
   "display_name": "Python 3",
   "language": "python",
   "name": "python3"
  },
  "language_info": {
   "codemirror_mode": {
    "name": "ipython",
    "version": 3
   },
   "file_extension": ".py",
   "mimetype": "text/x-python",
   "name": "python",
   "nbconvert_exporter": "python",
   "pygments_lexer": "ipython3",
   "version": "3.7.7"
  }
 },
 "nbformat": 4,
 "nbformat_minor": 4
}
